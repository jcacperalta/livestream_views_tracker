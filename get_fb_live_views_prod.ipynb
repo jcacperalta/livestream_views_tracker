{
 "cells": [
  {
   "cell_type": "code",
   "execution_count": null,
   "metadata": {
    "ExecuteTime": {
     "end_time": "2022-04-26T04:44:30.848921Z",
     "start_time": "2022-04-26T04:44:30.828936Z"
    }
   },
   "outputs": [],
   "source": [
    "#imports here\n",
    "import numpy as np\n",
    "import pandas as pd\n",
    "\n",
    "from selenium import webdriver\n",
    "from selenium.webdriver.common.keys import Keys\n",
    "from selenium.webdriver.support import expected_conditions as EC\n",
    "from selenium.webdriver.support.expected_conditions import visibility_of_element_located\n",
    "from selenium.webdriver.chrome.service import Service\n",
    "from selenium.webdriver.chrome.options import Options\n",
    "from selenium.webdriver.common.by import By\n",
    "\n",
    "from selenium.webdriver.support.wait import WebDriverWait\n",
    "\n",
    "import re\n",
    "import time\n",
    "import os\n",
    "\n",
    "import schedule"
   ]
  },
  {
   "cell_type": "markdown",
   "metadata": {},
   "source": [
    "### Launch Selenium browser"
   ]
  },
  {
   "cell_type": "code",
   "execution_count": null,
   "metadata": {
    "ExecuteTime": {
     "end_time": "2022-04-26T04:44:34.161786Z",
     "start_time": "2022-04-26T04:44:30.851919Z"
    }
   },
   "outputs": [],
   "source": [
    "service = Service(executable_path=\"./chromedriver.exe\")\n",
    "driver = webdriver.Chrome(service=service)\n",
    "driver.get(\"https://www.facebook.com/\")"
   ]
  },
  {
   "cell_type": "markdown",
   "metadata": {},
   "source": [
    "### Open livestream link"
   ]
  },
  {
   "cell_type": "code",
   "execution_count": null,
   "metadata": {
    "ExecuteTime": {
     "end_time": "2022-04-26T04:44:35.672876Z",
     "start_time": "2022-04-26T04:44:34.164782Z"
    }
   },
   "outputs": [],
   "source": [
    "#livestream link\n",
    "url_stream = \"https://www.facebook.com/watch/live/?ref=watch_permalink&v=1090523771497591\"\n",
    "driver.get(url_stream)"
   ]
  },
  {
   "cell_type": "code",
   "execution_count": null,
   "metadata": {
    "ExecuteTime": {
     "end_time": "2022-04-26T04:44:35.688871Z",
     "start_time": "2022-04-26T04:44:35.675874Z"
    }
   },
   "outputs": [],
   "source": [
    "views_data_raw = [] #I usually comment this out immediately after running so I dont run the risk of resetting the views list container"
   ]
  },
  {
   "cell_type": "markdown",
   "metadata": {
    "ExecuteTime": {
     "end_time": "2022-04-18T07:37:33.912915Z",
     "start_time": "2022-04-18T07:37:33.889916Z"
    }
   },
   "source": [
    "### Setup directory for event"
   ]
  },
  {
   "cell_type": "code",
   "execution_count": null,
   "metadata": {
    "ExecuteTime": {
     "end_time": "2022-04-26T04:44:35.704871Z",
     "start_time": "2022-04-26T04:44:35.692864Z"
    }
   },
   "outputs": [],
   "source": [
    "event_name = 'LK_Pasay'\n",
    "count=0"
   ]
  },
  {
   "cell_type": "code",
   "execution_count": null,
   "metadata": {
    "ExecuteTime": {
     "end_time": "2022-04-26T04:44:35.736839Z",
     "start_time": "2022-04-26T04:44:35.709856Z"
    }
   },
   "outputs": [],
   "source": [
    "#must have figs/ and data/ in home dir\n",
    "os.makedirs('figs/'+event_name, exist_ok=True)"
   ]
  },
  {
   "cell_type": "code",
   "execution_count": null,
   "metadata": {
    "ExecuteTime": {
     "end_time": "2022-04-26T04:44:36.912424Z",
     "start_time": "2022-04-26T04:44:35.740837Z"
    }
   },
   "outputs": [],
   "source": [
    "#sample screenshot\n",
    "current_dt = pd.Timestamp.now(tz='Asia/Manila').strftime(\"%Y-%m-%dT%H:%M:%S\")\n",
    "\"figs/\"+event_name+\"/ss_\"+event_name+'_'+current_dt.replace(\":\",\"\").replace(\" \",\"\").replace(\"-\",\"\")+\".png\""
   ]
  },
  {
   "cell_type": "markdown",
   "metadata": {},
   "source": [
    "### Define job"
   ]
  },
  {
   "cell_type": "code",
   "execution_count": null,
   "metadata": {
    "ExecuteTime": {
     "end_time": "2022-04-18T07:11:31.143221Z",
     "start_time": "2022-04-18T07:11:31.102243Z"
    }
   },
   "outputs": [],
   "source": [
    "def job():\n",
    "    current_dt = pd.Timestamp.now(tz='Asia/Manila').strftime(\"%Y-%m-%dT%H:%M:%S\")\n",
    "    driver.get(url_stream)\n",
    "    \n",
    "    #browser waits for 10 seconds or until livestream video appears \n",
    "    WebDriverWait(driver, 10).until(EC.element_to_be_clickable((By.CSS_SELECTOR, \"div[data-pagelet='WatchPermalinkVideo']\")))\n",
    "    \n",
    "    # encode browser rendered html\n",
    "    search_result_source = driver.page_source.encode('utf-8').decode('ascii', 'ignore')\n",
    "    # find anchor string 'people currently wathcing'\n",
    "    views_idx = search_result_source.find('people currently watching')\n",
    "    # get characters around anchor, split text and remove whitespace \n",
    "    num_views_str = search_result_source[views_idx-10:views_idx].split('\"')[1].strip()\n",
    "    # append to container list\n",
    "    views_data_raw.append((current_dt,num_views_str))\n",
    "    \n",
    "    # printout views data \n",
    "    print(current_dt+': '+num_views_str+ ' views')\n",
    "    \n",
    "    # Take screenshots and save data as csv\n",
    "    # less frequent screenshots at beginning of program\n",
    "    mins_interval_ss = 1 if current_dt.split(\"T\")[1]>=\"18:00:00\" else 2\n",
    "    \n",
    "    #do these actions at specific minutes\n",
    "    if current_dt.split(\"T\")[1].split(\":\")[1] in ['%02d' % c for c in np.arange(0,60,mins_interval_ss)]:\n",
    "        #build ss filename and save \n",
    "        fig_fn = \"figs/\"+event_name+\"/ss_\"+event_name+'_'+current_dt.replace(\":\",\"\").replace(\" \",\"\").replace(\"-\",\"\")+\".png\"\n",
    "        driver.get_screenshot_as_file(fig_fn)\n",
    "        \n",
    "        #create dataframe from container list and save as csv\n",
    "        df = pd.DataFrame(views_data_raw, columns=['dt','views_K'])\n",
    "        df['views_K'] = df['views_K'].apply(lambda x: float(x.replace(\"K\",\"\")))\n",
    "        df.to_csv('data/'+event_name+\"_livestream_views.csv\", index=False)"
   ]
  },
  {
   "cell_type": "code",
   "execution_count": null,
   "metadata": {
    "ExecuteTime": {
     "end_time": "2022-04-18T05:05:00.271119Z",
     "start_time": "2022-04-18T05:04:56.755528Z"
    }
   },
   "outputs": [],
   "source": [
    "job() #test one job run"
   ]
  },
  {
   "cell_type": "markdown",
   "metadata": {},
   "source": [
    "### Schedule job"
   ]
  },
  {
   "cell_type": "code",
   "execution_count": null,
   "metadata": {
    "ExecuteTime": {
     "start_time": "2022-04-18T07:11:34.938Z"
    }
   },
   "outputs": [],
   "source": [
    "#clear sched to remove existing jobs\n",
    "schedule.clear()\n",
    "#change until date to a time when youd expect the livestream to end (plus allowance)\n",
    "current_date = current_dt.split(\"T\")[0]\n",
    "schedule.every(1).minutes.at(\":15\").until(current_date+\" 23:55\").do(job)\n",
    "while True:\n",
    "    try:\n",
    "        schedule.run_pending()\n",
    "        time.sleep(1)    \n",
    "    except Exception as e:\n",
    "        print('ERROR here')\n",
    "        print(e)\n",
    "        continue"
   ]
  }
 ],
 "metadata": {
  "kernelspec": {
   "display_name": "Python 3",
   "language": "python",
   "name": "python3"
  },
  "language_info": {
   "codemirror_mode": {
    "name": "ipython",
    "version": 3
   },
   "file_extension": ".py",
   "mimetype": "text/x-python",
   "name": "python",
   "nbconvert_exporter": "python",
   "pygments_lexer": "ipython3",
   "version": "3.8.5"
  }
 },
 "nbformat": 4,
 "nbformat_minor": 4
}
